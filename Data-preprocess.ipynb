{
 "cells": [
  {
   "cell_type": "code",
   "execution_count": 1,
   "id": "aa4a424b",
   "metadata": {},
   "outputs": [],
   "source": [
    "import pandas as pd\n",
    "import seaborn as sns\n",
    "import matplotlib.pyplot as plt\n",
    "sns.set_style('whitegrid')\n",
    "import numpy as np\n",
    "import missingno as msno\n",
    "import plotly.express as px\n",
    "from sklearn.linear_model import LinearRegression"
   ]
  },
  {
   "cell_type": "code",
   "execution_count": 2,
   "id": "10af1aeb",
   "metadata": {},
   "outputs": [],
   "source": [
    "data = pd.read_csv('Boston 2019-04-07 to 2021-12-31 Weather.csv')"
   ]
  },
  {
   "cell_type": "code",
   "execution_count": 3,
   "id": "9287d570",
   "metadata": {},
   "outputs": [
    {
     "data": {
      "text/html": [
       "<div>\n",
       "<style scoped>\n",
       "    .dataframe tbody tr th:only-of-type {\n",
       "        vertical-align: middle;\n",
       "    }\n",
       "\n",
       "    .dataframe tbody tr th {\n",
       "        vertical-align: top;\n",
       "    }\n",
       "\n",
       "    .dataframe thead th {\n",
       "        text-align: right;\n",
       "    }\n",
       "</style>\n",
       "<table border=\"1\" class=\"dataframe\">\n",
       "  <thead>\n",
       "    <tr style=\"text-align: right;\">\n",
       "      <th></th>\n",
       "      <th>name</th>\n",
       "      <th>datetime</th>\n",
       "      <th>tempmax</th>\n",
       "      <th>tempmin</th>\n",
       "      <th>temp</th>\n",
       "      <th>feelslikemax</th>\n",
       "      <th>feelslikemin</th>\n",
       "      <th>feelslike</th>\n",
       "      <th>dew</th>\n",
       "      <th>humidity</th>\n",
       "      <th>...</th>\n",
       "      <th>solarradiation</th>\n",
       "      <th>solarenergy</th>\n",
       "      <th>uvindex</th>\n",
       "      <th>sunrise</th>\n",
       "      <th>sunset</th>\n",
       "      <th>moonphase</th>\n",
       "      <th>conditions</th>\n",
       "      <th>description</th>\n",
       "      <th>icon</th>\n",
       "      <th>stations</th>\n",
       "    </tr>\n",
       "  </thead>\n",
       "  <tbody>\n",
       "    <tr>\n",
       "      <th>0</th>\n",
       "      <td>Boston</td>\n",
       "      <td>4/7/19</td>\n",
       "      <td>19.3</td>\n",
       "      <td>6.6</td>\n",
       "      <td>12.7</td>\n",
       "      <td>19.3</td>\n",
       "      <td>5.2</td>\n",
       "      <td>12.4</td>\n",
       "      <td>3.6</td>\n",
       "      <td>55.56</td>\n",
       "      <td>...</td>\n",
       "      <td>285.5</td>\n",
       "      <td>15.4</td>\n",
       "      <td>7</td>\n",
       "      <td>2019-04-07T06:16:50</td>\n",
       "      <td>2019-04-07T19:16:39</td>\n",
       "      <td>0.02</td>\n",
       "      <td>Partially cloudy</td>\n",
       "      <td>Partly cloudy throughout the day.</td>\n",
       "      <td>partly-cloudy-day</td>\n",
       "      <td>F2140,KOWD,AV085,72509854704,KMQE,KBED,KBOS,72...</td>\n",
       "    </tr>\n",
       "    <tr>\n",
       "      <th>1</th>\n",
       "      <td>Boston</td>\n",
       "      <td>4/8/19</td>\n",
       "      <td>13.3</td>\n",
       "      <td>3.3</td>\n",
       "      <td>7.0</td>\n",
       "      <td>13.3</td>\n",
       "      <td>-0.3</td>\n",
       "      <td>4.0</td>\n",
       "      <td>4.2</td>\n",
       "      <td>83.09</td>\n",
       "      <td>...</td>\n",
       "      <td>48.8</td>\n",
       "      <td>2.3</td>\n",
       "      <td>1</td>\n",
       "      <td>2019-04-08T06:15:09</td>\n",
       "      <td>2019-04-08T19:17:47</td>\n",
       "      <td>0.05</td>\n",
       "      <td>Rain, Partially cloudy</td>\n",
       "      <td>Partly cloudy throughout the day with a chance...</td>\n",
       "      <td>rain</td>\n",
       "      <td>F2140,KOWD,AV085,72509854704,KMQE,KBOS,7250901...</td>\n",
       "    </tr>\n",
       "    <tr>\n",
       "      <th>2</th>\n",
       "      <td>Boston</td>\n",
       "      <td>4/9/19</td>\n",
       "      <td>5.0</td>\n",
       "      <td>2.2</td>\n",
       "      <td>3.6</td>\n",
       "      <td>4.3</td>\n",
       "      <td>-1.9</td>\n",
       "      <td>0.2</td>\n",
       "      <td>1.8</td>\n",
       "      <td>87.80</td>\n",
       "      <td>...</td>\n",
       "      <td>67.6</td>\n",
       "      <td>3.4</td>\n",
       "      <td>2</td>\n",
       "      <td>2019-04-09T06:13:29</td>\n",
       "      <td>2019-04-09T19:18:55</td>\n",
       "      <td>0.08</td>\n",
       "      <td>Rain, Overcast</td>\n",
       "      <td>Cloudy skies throughout the day with late afte...</td>\n",
       "      <td>rain</td>\n",
       "      <td>F2140,KOWD,AV085,72509854704,KMQE,KBED,KBOS,72...</td>\n",
       "    </tr>\n",
       "    <tr>\n",
       "      <th>3</th>\n",
       "      <td>Boston</td>\n",
       "      <td>4/10/19</td>\n",
       "      <td>8.3</td>\n",
       "      <td>3.3</td>\n",
       "      <td>5.3</td>\n",
       "      <td>4.8</td>\n",
       "      <td>-1.5</td>\n",
       "      <td>1.3</td>\n",
       "      <td>-2.2</td>\n",
       "      <td>61.28</td>\n",
       "      <td>...</td>\n",
       "      <td>250.0</td>\n",
       "      <td>13.5</td>\n",
       "      <td>7</td>\n",
       "      <td>2019-04-10T06:11:49</td>\n",
       "      <td>2019-04-10T19:20:02</td>\n",
       "      <td>0.13</td>\n",
       "      <td>Rain, Partially cloudy</td>\n",
       "      <td>Partly cloudy throughout the day with morning ...</td>\n",
       "      <td>rain</td>\n",
       "      <td>F2140,KOWD,AV085,72509854704,KMQE,KBOS,7250901...</td>\n",
       "    </tr>\n",
       "    <tr>\n",
       "      <th>4</th>\n",
       "      <td>Boston</td>\n",
       "      <td>4/11/19</td>\n",
       "      <td>10.0</td>\n",
       "      <td>1.7</td>\n",
       "      <td>6.1</td>\n",
       "      <td>10.0</td>\n",
       "      <td>-3.6</td>\n",
       "      <td>3.1</td>\n",
       "      <td>-5.6</td>\n",
       "      <td>44.03</td>\n",
       "      <td>...</td>\n",
       "      <td>368.4</td>\n",
       "      <td>19.9</td>\n",
       "      <td>8</td>\n",
       "      <td>2019-04-11T06:10:10</td>\n",
       "      <td>2019-04-11T19:21:10</td>\n",
       "      <td>0.18</td>\n",
       "      <td>Partially cloudy</td>\n",
       "      <td>Becoming cloudy in the afternoon.</td>\n",
       "      <td>partly-cloudy-day</td>\n",
       "      <td>F2140,KOWD,AV085,72509854704,KMQE,KBOS,7250901...</td>\n",
       "    </tr>\n",
       "    <tr>\n",
       "      <th>...</th>\n",
       "      <td>...</td>\n",
       "      <td>...</td>\n",
       "      <td>...</td>\n",
       "      <td>...</td>\n",
       "      <td>...</td>\n",
       "      <td>...</td>\n",
       "      <td>...</td>\n",
       "      <td>...</td>\n",
       "      <td>...</td>\n",
       "      <td>...</td>\n",
       "      <td>...</td>\n",
       "      <td>...</td>\n",
       "      <td>...</td>\n",
       "      <td>...</td>\n",
       "      <td>...</td>\n",
       "      <td>...</td>\n",
       "      <td>...</td>\n",
       "      <td>...</td>\n",
       "      <td>...</td>\n",
       "      <td>...</td>\n",
       "      <td>...</td>\n",
       "    </tr>\n",
       "    <tr>\n",
       "      <th>995</th>\n",
       "      <td>Boston</td>\n",
       "      <td>12/27/21</td>\n",
       "      <td>1.7</td>\n",
       "      <td>-1.1</td>\n",
       "      <td>0.5</td>\n",
       "      <td>1.7</td>\n",
       "      <td>-6.7</td>\n",
       "      <td>-3.4</td>\n",
       "      <td>-5.2</td>\n",
       "      <td>65.61</td>\n",
       "      <td>...</td>\n",
       "      <td>93.8</td>\n",
       "      <td>3.0</td>\n",
       "      <td>2</td>\n",
       "      <td>2021-12-27T07:12:42</td>\n",
       "      <td>2021-12-27T16:18:24</td>\n",
       "      <td>0.78</td>\n",
       "      <td>Partially cloudy</td>\n",
       "      <td>Partly cloudy throughout the day.</td>\n",
       "      <td>wind</td>\n",
       "      <td>KOWD,72509854704,KBED,0518W,KBOS,72509014739,7...</td>\n",
       "    </tr>\n",
       "    <tr>\n",
       "      <th>996</th>\n",
       "      <td>Boston</td>\n",
       "      <td>12/28/21</td>\n",
       "      <td>7.2</td>\n",
       "      <td>0.7</td>\n",
       "      <td>3.9</td>\n",
       "      <td>4.2</td>\n",
       "      <td>-1.7</td>\n",
       "      <td>1.6</td>\n",
       "      <td>-0.7</td>\n",
       "      <td>74.15</td>\n",
       "      <td>...</td>\n",
       "      <td>130.8</td>\n",
       "      <td>4.2</td>\n",
       "      <td>4</td>\n",
       "      <td>2021-12-28T07:12:57</td>\n",
       "      <td>2021-12-28T16:19:08</td>\n",
       "      <td>0.83</td>\n",
       "      <td>Rain, Overcast</td>\n",
       "      <td>Cloudy skies throughout the day with rain.</td>\n",
       "      <td>rain</td>\n",
       "      <td>KOWD,72509854704,KBED,0518W,KBOS,72509014739,7...</td>\n",
       "    </tr>\n",
       "    <tr>\n",
       "      <th>997</th>\n",
       "      <td>Boston</td>\n",
       "      <td>12/29/21</td>\n",
       "      <td>5.7</td>\n",
       "      <td>2.8</td>\n",
       "      <td>4.4</td>\n",
       "      <td>5.7</td>\n",
       "      <td>-0.1</td>\n",
       "      <td>3.1</td>\n",
       "      <td>-1.1</td>\n",
       "      <td>68.08</td>\n",
       "      <td>...</td>\n",
       "      <td>78.6</td>\n",
       "      <td>2.5</td>\n",
       "      <td>2</td>\n",
       "      <td>2021-12-29T07:13:11</td>\n",
       "      <td>2021-12-29T16:19:54</td>\n",
       "      <td>0.88</td>\n",
       "      <td>Rain, Overcast</td>\n",
       "      <td>Cloudy skies throughout the day with early mor...</td>\n",
       "      <td>rain</td>\n",
       "      <td>KOWD,72509854704,KBED,0518W,KBOS,72509014739,7...</td>\n",
       "    </tr>\n",
       "    <tr>\n",
       "      <th>998</th>\n",
       "      <td>Boston</td>\n",
       "      <td>12/30/21</td>\n",
       "      <td>5.7</td>\n",
       "      <td>3.3</td>\n",
       "      <td>4.6</td>\n",
       "      <td>5.7</td>\n",
       "      <td>0.8</td>\n",
       "      <td>3.2</td>\n",
       "      <td>2.6</td>\n",
       "      <td>87.69</td>\n",
       "      <td>...</td>\n",
       "      <td>37.2</td>\n",
       "      <td>1.2</td>\n",
       "      <td>1</td>\n",
       "      <td>2021-12-30T07:13:21</td>\n",
       "      <td>2021-12-30T16:20:41</td>\n",
       "      <td>0.93</td>\n",
       "      <td>Rain, Overcast</td>\n",
       "      <td>Cloudy skies throughout the day with afternoon...</td>\n",
       "      <td>rain</td>\n",
       "      <td>KOWD,72509854704,KBED,0518W,KBOS,72509014739,7...</td>\n",
       "    </tr>\n",
       "    <tr>\n",
       "      <th>999</th>\n",
       "      <td>Boston</td>\n",
       "      <td>12/31/21</td>\n",
       "      <td>7.2</td>\n",
       "      <td>4.4</td>\n",
       "      <td>5.9</td>\n",
       "      <td>6.6</td>\n",
       "      <td>2.9</td>\n",
       "      <td>4.9</td>\n",
       "      <td>4.8</td>\n",
       "      <td>92.98</td>\n",
       "      <td>...</td>\n",
       "      <td>57.1</td>\n",
       "      <td>1.9</td>\n",
       "      <td>1</td>\n",
       "      <td>2021-12-31T07:13:30</td>\n",
       "      <td>2021-12-31T16:21:31</td>\n",
       "      <td>0.97</td>\n",
       "      <td>Overcast</td>\n",
       "      <td>Cloudy skies throughout the day.</td>\n",
       "      <td>cloudy</td>\n",
       "      <td>KOWD,72509854704,KBED,0518W,KBOS,72509014739,K...</td>\n",
       "    </tr>\n",
       "  </tbody>\n",
       "</table>\n",
       "<p>1000 rows × 30 columns</p>\n",
       "</div>"
      ],
      "text/plain": [
       "       name  datetime  tempmax  tempmin  temp  feelslikemax  feelslikemin  \\\n",
       "0    Boston    4/7/19     19.3      6.6  12.7          19.3           5.2   \n",
       "1    Boston    4/8/19     13.3      3.3   7.0          13.3          -0.3   \n",
       "2    Boston    4/9/19      5.0      2.2   3.6           4.3          -1.9   \n",
       "3    Boston   4/10/19      8.3      3.3   5.3           4.8          -1.5   \n",
       "4    Boston   4/11/19     10.0      1.7   6.1          10.0          -3.6   \n",
       "..      ...       ...      ...      ...   ...           ...           ...   \n",
       "995  Boston  12/27/21      1.7     -1.1   0.5           1.7          -6.7   \n",
       "996  Boston  12/28/21      7.2      0.7   3.9           4.2          -1.7   \n",
       "997  Boston  12/29/21      5.7      2.8   4.4           5.7          -0.1   \n",
       "998  Boston  12/30/21      5.7      3.3   4.6           5.7           0.8   \n",
       "999  Boston  12/31/21      7.2      4.4   5.9           6.6           2.9   \n",
       "\n",
       "     feelslike  dew  humidity  ...  solarradiation  solarenergy  uvindex  \\\n",
       "0         12.4  3.6     55.56  ...           285.5         15.4        7   \n",
       "1          4.0  4.2     83.09  ...            48.8          2.3        1   \n",
       "2          0.2  1.8     87.80  ...            67.6          3.4        2   \n",
       "3          1.3 -2.2     61.28  ...           250.0         13.5        7   \n",
       "4          3.1 -5.6     44.03  ...           368.4         19.9        8   \n",
       "..         ...  ...       ...  ...             ...          ...      ...   \n",
       "995       -3.4 -5.2     65.61  ...            93.8          3.0        2   \n",
       "996        1.6 -0.7     74.15  ...           130.8          4.2        4   \n",
       "997        3.1 -1.1     68.08  ...            78.6          2.5        2   \n",
       "998        3.2  2.6     87.69  ...            37.2          1.2        1   \n",
       "999        4.9  4.8     92.98  ...            57.1          1.9        1   \n",
       "\n",
       "                 sunrise               sunset  moonphase  \\\n",
       "0    2019-04-07T06:16:50  2019-04-07T19:16:39       0.02   \n",
       "1    2019-04-08T06:15:09  2019-04-08T19:17:47       0.05   \n",
       "2    2019-04-09T06:13:29  2019-04-09T19:18:55       0.08   \n",
       "3    2019-04-10T06:11:49  2019-04-10T19:20:02       0.13   \n",
       "4    2019-04-11T06:10:10  2019-04-11T19:21:10       0.18   \n",
       "..                   ...                  ...        ...   \n",
       "995  2021-12-27T07:12:42  2021-12-27T16:18:24       0.78   \n",
       "996  2021-12-28T07:12:57  2021-12-28T16:19:08       0.83   \n",
       "997  2021-12-29T07:13:11  2021-12-29T16:19:54       0.88   \n",
       "998  2021-12-30T07:13:21  2021-12-30T16:20:41       0.93   \n",
       "999  2021-12-31T07:13:30  2021-12-31T16:21:31       0.97   \n",
       "\n",
       "                 conditions  \\\n",
       "0          Partially cloudy   \n",
       "1    Rain, Partially cloudy   \n",
       "2            Rain, Overcast   \n",
       "3    Rain, Partially cloudy   \n",
       "4          Partially cloudy   \n",
       "..                      ...   \n",
       "995        Partially cloudy   \n",
       "996          Rain, Overcast   \n",
       "997          Rain, Overcast   \n",
       "998          Rain, Overcast   \n",
       "999                Overcast   \n",
       "\n",
       "                                           description               icon  \\\n",
       "0                    Partly cloudy throughout the day.  partly-cloudy-day   \n",
       "1    Partly cloudy throughout the day with a chance...               rain   \n",
       "2    Cloudy skies throughout the day with late afte...               rain   \n",
       "3    Partly cloudy throughout the day with morning ...               rain   \n",
       "4                    Becoming cloudy in the afternoon.  partly-cloudy-day   \n",
       "..                                                 ...                ...   \n",
       "995                  Partly cloudy throughout the day.               wind   \n",
       "996         Cloudy skies throughout the day with rain.               rain   \n",
       "997  Cloudy skies throughout the day with early mor...               rain   \n",
       "998  Cloudy skies throughout the day with afternoon...               rain   \n",
       "999                   Cloudy skies throughout the day.             cloudy   \n",
       "\n",
       "                                              stations  \n",
       "0    F2140,KOWD,AV085,72509854704,KMQE,KBED,KBOS,72...  \n",
       "1    F2140,KOWD,AV085,72509854704,KMQE,KBOS,7250901...  \n",
       "2    F2140,KOWD,AV085,72509854704,KMQE,KBED,KBOS,72...  \n",
       "3    F2140,KOWD,AV085,72509854704,KMQE,KBOS,7250901...  \n",
       "4    F2140,KOWD,AV085,72509854704,KMQE,KBOS,7250901...  \n",
       "..                                                 ...  \n",
       "995  KOWD,72509854704,KBED,0518W,KBOS,72509014739,7...  \n",
       "996  KOWD,72509854704,KBED,0518W,KBOS,72509014739,7...  \n",
       "997  KOWD,72509854704,KBED,0518W,KBOS,72509014739,7...  \n",
       "998  KOWD,72509854704,KBED,0518W,KBOS,72509014739,7...  \n",
       "999  KOWD,72509854704,KBED,0518W,KBOS,72509014739,K...  \n",
       "\n",
       "[1000 rows x 30 columns]"
      ]
     },
     "execution_count": 3,
     "metadata": {},
     "output_type": "execute_result"
    }
   ],
   "source": [
    "data"
   ]
  },
  {
   "cell_type": "code",
   "execution_count": 4,
   "id": "a54f5433",
   "metadata": {},
   "outputs": [
    {
     "data": {
      "text/plain": [
       "(1000, 30)"
      ]
     },
     "execution_count": 4,
     "metadata": {},
     "output_type": "execute_result"
    }
   ],
   "source": [
    "data.shape"
   ]
  },
  {
   "cell_type": "markdown",
   "id": "e72d99de",
   "metadata": {},
   "source": [
    "# Drop Columns"
   ]
  },
  {
   "cell_type": "code",
   "execution_count": 5,
   "id": "3ef79b01",
   "metadata": {},
   "outputs": [],
   "source": [
    "# Since \"conditions\" and \"description\" can directly determine the class attribute\n",
    "#  we can drop the following columns:\n",
    "data = data.drop(['conditions', 'description'], axis=1)\n",
    "# based on our own knowledge, we can assume that datetime, sunset, sunrise, and stations is useless \n",
    "# so we can drop the following columns:\n",
    "data = data.drop(['datetime', 'sunset', 'sunrise', 'stations'], axis=1)"
   ]
  },
  {
   "cell_type": "code",
   "execution_count": 6,
   "id": "a69e3180",
   "metadata": {},
   "outputs": [
    {
     "data": {
      "text/plain": [
       "(1000, 24)"
      ]
     },
     "execution_count": 6,
     "metadata": {},
     "output_type": "execute_result"
    }
   ],
   "source": [
    "data.shape"
   ]
  },
  {
   "cell_type": "markdown",
   "id": "ecb5f1ad",
   "metadata": {},
   "source": [
    "# Data Analysis"
   ]
  },
  {
   "cell_type": "markdown",
   "id": "8e09797b",
   "metadata": {},
   "source": [
    "## Missing Values"
   ]
  },
  {
   "cell_type": "code",
   "execution_count": 7,
   "id": "92b2a20e",
   "metadata": {},
   "outputs": [
    {
     "name": "stdout",
     "output_type": "stream",
     "text": [
      "Percentage of missing values on each column:\n",
      "\n",
      "windgust            18.2\n",
      "name                 0.0\n",
      "tempmax              0.0\n",
      "moonphase            0.0\n",
      "uvindex              0.0\n",
      "solarenergy          0.0\n",
      "solarradiation       0.0\n",
      "visibility           0.0\n",
      "cloudcover           0.0\n",
      "sealevelpressure     0.0\n",
      "winddir              0.0\n",
      "windspeed            0.0\n",
      "snowdepth            0.0\n",
      "snow                 0.0\n",
      "precipcover          0.0\n",
      "precip               0.0\n",
      "humidity             0.0\n",
      "dew                  0.0\n",
      "feelslike            0.0\n",
      "feelslikemin         0.0\n",
      "feelslikemax         0.0\n",
      "temp                 0.0\n",
      "tempmin              0.0\n",
      "icon                 0.0\n",
      "dtype: float64\n"
     ]
    },
    {
     "data": {
      "text/plain": [
       "Text(0.5, 1.0, 'Missing values Matrix')"
      ]
     },
     "execution_count": 7,
     "metadata": {},
     "output_type": "execute_result"
    },
    {
     "data": {
      "image/png": "[encoded data removed]",
      "text/plain": [
       "<Figure size 1800x720 with 2 Axes>"
      ]
     },
     "metadata": {},
     "output_type": "display_data"
    }
   ],
   "source": [
    "print(\"Percentage of missing values on each column:\\n\")\n",
    "print(((data.isnull().sum()/data.shape[0])*100).sort_values(ascending=False))\n",
    "msno.matrix(data)\n",
    "plt.title(\"Missing values Matrix\")"
   ]
  },
  {
   "cell_type": "markdown",
   "id": "72b441e5",
   "metadata": {},
   "source": [
    "### Use linear regression to interpolate windgust from windspeed"
   ]
  },
  {
   "cell_type": "code",
   "execution_count": 8,
   "id": "e441d023",
   "metadata": {},
   "outputs": [
    {
     "data": {
      "text/html": [
       "<div>\n",
       "<style scoped>\n",
       "    .dataframe tbody tr th:only-of-type {\n",
       "        vertical-align: middle;\n",
       "    }\n",
       "\n",
       "    .dataframe tbody tr th {\n",
       "        vertical-align: top;\n",
       "    }\n",
       "\n",
       "    .dataframe thead th {\n",
       "        text-align: right;\n",
       "    }\n",
       "</style>\n",
       "<table border=\"1\" class=\"dataframe\">\n",
       "  <thead>\n",
       "    <tr style=\"text-align: right;\">\n",
       "      <th></th>\n",
       "      <th>windgust</th>\n",
       "      <th>windspeed</th>\n",
       "    </tr>\n",
       "  </thead>\n",
       "  <tbody>\n",
       "    <tr>\n",
       "      <th>windgust</th>\n",
       "      <td>1.000000</td>\n",
       "      <td>0.809452</td>\n",
       "    </tr>\n",
       "    <tr>\n",
       "      <th>windspeed</th>\n",
       "      <td>0.809452</td>\n",
       "      <td>1.000000</td>\n",
       "    </tr>\n",
       "  </tbody>\n",
       "</table>\n",
       "</div>"
      ],
      "text/plain": [
       "           windgust  windspeed\n",
       "windgust   1.000000   0.809452\n",
       "windspeed  0.809452   1.000000"
      ]
     },
     "execution_count": 8,
     "metadata": {},
     "output_type": "execute_result"
    }
   ],
   "source": [
    "data[['windgust', 'windspeed']].corr()"
   ]
  },
  {
   "cell_type": "code",
   "execution_count": 11,
   "id": "59829064",
   "metadata": {},
   "outputs": [
    {
     "data": {
      "text/plain": [
       "(818, 24)"
      ]
     },
     "execution_count": 11,
     "metadata": {},
     "output_type": "execute_result"
    }
   ],
   "source": [
    "# Since windgust and windspeed has a strong correlation \n",
    "# we can apply winspeed in the linear regression to fill in the null windgust value.\n",
    "regression_df = data[~(data['windspeed'].isnull()) & ~(data['windgust'].isnull())]\n",
    "regression_df.shape"
   ]
  },
  {
   "cell_type": "code",
   "execution_count": 12,
   "id": "3384d029",
   "metadata": {},
   "outputs": [
    {
     "data": {
      "text/plain": [
       "<AxesSubplot:>"
      ]
     },
     "execution_count": 12,
     "metadata": {},
     "output_type": "execute_result"
    },
    {
     "data": {
      "image/png": "[encoded data removed]",
      "text/plain": [
       "<Figure size 432x288 with 1 Axes>"
      ]
     },
     "metadata": {},
     "output_type": "display_data"
    }
   ],
   "source": [
    "windspeed = []\n",
    "windgust = []\n",
    "for i, row in regression_df.iterrows():\n",
    "    if row['windgust'] and row['windspeed']:\n",
    "\n",
    "        windspeed.append(row['windspeed'])\n",
    "        windgust.append(row['windgust'])\n",
    "\n",
    "x = np.array(windspeed)\n",
    "y = np.array(windgust)\n",
    "        \n",
    "sns.regplot(x=windspeed, y=windgust)"
   ]
  },
  {
   "cell_type": "code",
   "execution_count": 14,
   "id": "c74ad4f5",
   "metadata": {},
   "outputs": [
    {
     "data": {
      "text/plain": [
       "LinearRegression()"
      ]
     },
     "execution_count": 14,
     "metadata": {},
     "output_type": "execute_result"
    }
   ],
   "source": [
    "X = x.reshape(-1, 1)\n",
    "reg = LinearRegression()\n",
    "reg.fit(X, y)"
   ]
  },
  {
   "cell_type": "code",
   "execution_count": 15,
   "id": "9f0d0388",
   "metadata": {},
   "outputs": [
    {
     "data": {
      "text/plain": [
       "12.02233467071298"
      ]
     },
     "execution_count": 15,
     "metadata": {},
     "output_type": "execute_result"
    }
   ],
   "source": [
    "reg.intercept_"
   ]
  },
  {
   "cell_type": "code",
   "execution_count": 16,
   "id": "c695c7e6",
   "metadata": {},
   "outputs": [
    {
     "data": {
      "text/plain": [
       "array([1.10552482])"
      ]
     },
     "execution_count": 16,
     "metadata": {},
     "output_type": "execute_result"
    }
   ],
   "source": [
    "reg.coef_"
   ]
  },
  {
   "cell_type": "code",
   "execution_count": 18,
   "id": "69673ccb",
   "metadata": {},
   "outputs": [],
   "source": [
    "# y = 12.02 + 1.11*x \n",
    "# where y = windgust and x = windspeed\n",
    "def x_to_y(x):\n",
    "    return reg.intercept_ + reg.coef_ * x"
   ]
  },
  {
   "cell_type": "code",
   "execution_count": 19,
   "id": "4e064fff",
   "metadata": {},
   "outputs": [],
   "source": [
    "filled_df = data.copy()"
   ]
  },
  {
   "cell_type": "code",
   "execution_count": 20,
   "id": "f7728c0a",
   "metadata": {},
   "outputs": [
    {
     "data": {
      "text/html": [
       "<div>\n",
       "<style scoped>\n",
       "    .dataframe tbody tr th:only-of-type {\n",
       "        vertical-align: middle;\n",
       "    }\n",
       "\n",
       "    .dataframe tbody tr th {\n",
       "        vertical-align: top;\n",
       "    }\n",
       "\n",
       "    .dataframe thead th {\n",
       "        text-align: right;\n",
       "    }\n",
       "</style>\n",
       "<table border=\"1\" class=\"dataframe\">\n",
       "  <thead>\n",
       "    <tr style=\"text-align: right;\">\n",
       "      <th></th>\n",
       "      <th>name</th>\n",
       "      <th>tempmax</th>\n",
       "      <th>tempmin</th>\n",
       "      <th>temp</th>\n",
       "      <th>feelslikemax</th>\n",
       "      <th>feelslikemin</th>\n",
       "      <th>feelslike</th>\n",
       "      <th>dew</th>\n",
       "      <th>humidity</th>\n",
       "      <th>precip</th>\n",
       "      <th>...</th>\n",
       "      <th>windspeed</th>\n",
       "      <th>winddir</th>\n",
       "      <th>sealevelpressure</th>\n",
       "      <th>cloudcover</th>\n",
       "      <th>visibility</th>\n",
       "      <th>solarradiation</th>\n",
       "      <th>solarenergy</th>\n",
       "      <th>uvindex</th>\n",
       "      <th>moonphase</th>\n",
       "      <th>icon</th>\n",
       "    </tr>\n",
       "  </thead>\n",
       "  <tbody>\n",
       "  </tbody>\n",
       "</table>\n",
       "<p>0 rows × 24 columns</p>\n",
       "</div>"
      ],
      "text/plain": [
       "Empty DataFrame\n",
       "Columns: [name, tempmax, tempmin, temp, feelslikemax, feelslikemin, feelslike, dew, humidity, precip, precipcover, snow, snowdepth, windgust, windspeed, winddir, sealevelpressure, cloudcover, visibility, solarradiation, solarenergy, uvindex, moonphase, icon]\n",
       "Index: []\n",
       "\n",
       "[0 rows x 24 columns]"
      ]
     },
     "execution_count": 20,
     "metadata": {},
     "output_type": "execute_result"
    }
   ],
   "source": [
    "# filling in the blank windgust\n",
    "filled_df['windgust'] = data['windgust'].fillna(data['windspeed'].apply(lambda x: x_to_y(x)[0]))\n",
    "filled_df[filled_df['windgust'].isnull()]"
   ]
  },
  {
   "cell_type": "code",
   "execution_count": 21,
   "id": "86590eaf",
   "metadata": {},
   "outputs": [
    {
     "data": {
      "text/plain": [
       "27     28.052445\n",
       "28     30.152942\n",
       "40     34.353936\n",
       "55     40.323770\n",
       "71     34.243384\n",
       "         ...    \n",
       "992    28.052445\n",
       "993    31.921781\n",
       "997    31.811229\n",
       "998    26.173052\n",
       "999    24.293660\n",
       "Name: windgust, Length: 182, dtype: float64"
      ]
     },
     "execution_count": 21,
     "metadata": {},
     "output_type": "execute_result"
    }
   ],
   "source": [
    "filled_df[~filled_df.apply(tuple,1).isin(data.apply(tuple,1))]['windgust']"
   ]
  },
  {
   "cell_type": "code",
   "execution_count": 22,
   "id": "fb6b56ed",
   "metadata": {},
   "outputs": [],
   "source": [
    "filled_df.to_csv('clean_weather_data.csv', index=False)"
   ]
  },
  {
   "cell_type": "code",
   "execution_count": null,
   "id": "d95fc8e9",
   "metadata": {},
   "outputs": [],
   "source": []
  }
 ],
 "metadata": {
  "kernelspec": {
   "display_name": "Python 3 (ipykernel)",
   "language": "python",
   "name": "python3"
  },
  "language_info": {
   "codemirror_mode": {
    "name": "ipython",
    "version": 3
   },
   "file_extension": ".py",
   "mimetype": "text/x-python",
   "name": "python",
   "nbconvert_exporter": "python",
   "pygments_lexer": "ipython3",
   "version": "3.10.2"
  }
 },
 "nbformat": 4,
 "nbformat_minor": 5
}
